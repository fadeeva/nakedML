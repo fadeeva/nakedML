{
 "cells": [
  {
   "cell_type": "markdown",
   "metadata": {},
   "source": [
    "# Convolution"
   ]
  },
  {
   "cell_type": "code",
   "execution_count": null,
   "metadata": {},
   "outputs": [],
   "source": [
    "import numpy as np\n",
    "import scipy as sc\n",
    "from scipy import signal"
   ]
  },
  {
   "cell_type": "code",
   "execution_count": 59,
   "metadata": {},
   "outputs": [
    {
     "data": {
      "text/plain": [
       "array([[5., 3., 5., 3., 5.],\n",
       "       [3., 4., 3., 4., 3.],\n",
       "       [5., 3., 5., 3., 5.]])"
      ]
     },
     "execution_count": 59,
     "metadata": {},
     "output_type": "execute_result"
    }
   ],
   "source": [
    "_filter = np.array([\n",
    "    [0, 1, 0],\n",
    "    [1, 1, 1],\n",
    "    [0, 1, 0],\n",
    "])\n",
    "\n",
    "image = np.array([\n",
    "    [0, 1, 0, 1, 0, 1, 0],\n",
    "    [1, 1, 1, 1, 1, 1, 1],\n",
    "    [0, 1, 0, 1, 0, 1, 0],\n",
    "    [1, 1, 1, 1, 1, 1, 1],\n",
    "    [0, 1, 0, 1, 0, 1, 0],\n",
    "])\n",
    "\n",
    "cnv_shape = (image.shape[0] - _filter.shape[0] + 1, image.shape[1] - _filter.shape[1] + 1)\n",
    "cnv = np.zeros(cnv_shape)\n",
    "cnv\n",
    "\n",
    "for i in range(cnv_shape[0]):\n",
    "    for j in range(cnv_shape[1]):\n",
    "        cnv[i][j] = (image[i:i+_filter.shape[0], j:j+_filter.shape[0]] * _filter).sum()\n",
    "\n",
    "cnv"
   ]
  },
  {
   "cell_type": "code",
   "execution_count": 72,
   "metadata": {},
   "outputs": [],
   "source": [
    "def get_cnv_zeros(image_shape: tuple, filter_shape: tuple) -> np.ndarray:\n",
    "    cnv_shape = (image_shape[0] - filter_shape[0] + 1, image_shape[1] - filter_shape[1] + 1)\n",
    "    return np.zeros(cnv_shape)\n",
    "\n",
    "def convolve(image: np.ndarray, _filter: np.ndarray) -> np.ndarray:\n",
    "    cnv = get_cnv_zeros(image.shape, _filter.shape)\n",
    "    for i in range(cnv_shape[0]):\n",
    "        for j in range(cnv_shape[1]):\n",
    "            cnv[i][j] = (image[i:i+_filter.shape[0], j:j+_filter.shape[0]] * _filter).sum()\n",
    "    return cnv"
   ]
  },
  {
   "cell_type": "code",
   "execution_count": 73,
   "metadata": {},
   "outputs": [
    {
     "data": {
      "text/plain": [
       "array([[5., 3., 5., 3., 5.],\n",
       "       [3., 4., 3., 4., 3.],\n",
       "       [5., 3., 5., 3., 5.]])"
      ]
     },
     "execution_count": 73,
     "metadata": {},
     "output_type": "execute_result"
    }
   ],
   "source": [
    "convolve(image, _filter)"
   ]
  },
  {
   "cell_type": "code",
   "execution_count": 74,
   "metadata": {},
   "outputs": [
    {
     "data": {
      "text/plain": [
       "array([[0., 0., 0., 0., 0.],\n",
       "       [0., 0., 0., 0., 0.],\n",
       "       [0., 0., 0., 0., 0.]])"
      ]
     },
     "execution_count": 74,
     "metadata": {},
     "output_type": "execute_result"
    }
   ],
   "source": [
    "get_cnv_zeros(image.shape, _filter.shape)"
   ]
  },
  {
   "cell_type": "code",
   "execution_count": null,
   "metadata": {},
   "outputs": [],
   "source": []
  },
  {
   "cell_type": "code",
   "execution_count": 69,
   "metadata": {},
   "outputs": [
    {
     "data": {
      "text/plain": [
       "array([[5, 3, 5, 3, 5],\n",
       "       [3, 4, 3, 4, 3],\n",
       "       [5, 3, 5, 3, 5]])"
      ]
     },
     "execution_count": 69,
     "metadata": {},
     "output_type": "execute_result"
    }
   ],
   "source": [
    "_filter = np.array(\n",
    "    [[0, 1, 0],\n",
    "     [1, 1, 1],\n",
    "     [0, 1, 0]\n",
    "    ]\n",
    ")\n",
    "\n",
    "image = np.array([\n",
    "    [0, 1, 0, 1, 0, 1, 0],\n",
    "    [1, 1, 1, 1, 1, 1, 1],\n",
    "    [0, 1, 0, 1, 0, 1, 0],\n",
    "    [1, 1, 1, 1, 1, 1, 1],\n",
    "    [0, 1, 0, 1, 0, 1, 0]\n",
    "    ])\n",
    "\n",
    "s_x=1\n",
    "s_y=1\n",
    "\n",
    "res = signal.convolve2d(image, _filter[::-1, ::-1], mode='valid')[::s_y, ::s_x]\n",
    "res"
   ]
  },
  {
   "cell_type": "code",
   "execution_count": 10,
   "metadata": {},
   "outputs": [],
   "source": []
  },
  {
   "cell_type": "code",
   "execution_count": null,
   "metadata": {},
   "outputs": [],
   "source": []
  }
 ],
 "metadata": {
  "kernelspec": {
   "display_name": "Python 3",
   "language": "python",
   "name": "python3"
  },
  "language_info": {
   "codemirror_mode": {
    "name": "ipython",
    "version": 3
   },
   "file_extension": ".py",
   "mimetype": "text/x-python",
   "name": "python",
   "nbconvert_exporter": "python",
   "pygments_lexer": "ipython3",
   "version": "3.8.5"
  }
 },
 "nbformat": 4,
 "nbformat_minor": 2
}

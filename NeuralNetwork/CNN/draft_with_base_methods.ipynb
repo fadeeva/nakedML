{
 "cells": [
  {
   "cell_type": "markdown",
   "metadata": {},
   "source": [
    "# Draft"
   ]
  },
  {
   "cell_type": "code",
   "execution_count": 1,
   "metadata": {},
   "outputs": [],
   "source": [
    "import numpy as np\n",
    "import scipy as sc\n",
    "from scipy import signal"
   ]
  },
  {
   "cell_type": "code",
   "execution_count": 35,
   "metadata": {},
   "outputs": [],
   "source": [
    "np.random.seed(24)"
   ]
  },
  {
   "cell_type": "code",
   "execution_count": 82,
   "metadata": {},
   "outputs": [
    {
     "data": {
      "text/plain": [
       "array([[5., 3., 5., 3., 5.],\n",
       "       [3., 4., 3., 4., 3.],\n",
       "       [5., 3., 5., 3., 5.]])"
      ]
     },
     "execution_count": 82,
     "metadata": {},
     "output_type": "execute_result"
    }
   ],
   "source": [
    "_filter = np.array([\n",
    "    [0, 1, 0],\n",
    "    [1, 1, 1],\n",
    "    [0, 1, 0],\n",
    "])\n",
    "\n",
    "image = np.array([\n",
    "    [0, 1, 0, 1, 0, 1, 0],\n",
    "    [1, 1, 1, 1, 1, 1, 1],\n",
    "    [0, 1, 0, 1, 0, 1, 0],\n",
    "    [1, 1, 1, 1, 1, 1, 1],\n",
    "    [0, 1, 0, 1, 0, 1, 0],\n",
    "])\n",
    "\n",
    "cnv_shape = (image.shape[0] - _filter.shape[0] + 1, image.shape[1] - _filter.shape[1] + 1)\n",
    "cnv = np.zeros(cnv_shape)\n",
    "cnv\n",
    "\n",
    "for i in range(cnv_shape[0]):\n",
    "    for j in range(cnv_shape[1]):\n",
    "        cnv[i][j] = (image[i:i+_filter.shape[0], j:j+_filter.shape[0]] * _filter).sum()\n",
    "\n",
    "cnv"
   ]
  },
  {
   "cell_type": "code",
   "execution_count": 3,
   "metadata": {},
   "outputs": [
    {
     "data": {
      "text/plain": [
       "array([[0., 0., 0., 0., 0., 0., 0., 0., 0.],\n",
       "       [0., 1., 1., 1., 1., 1., 1., 1., 0.],\n",
       "       [0., 1., 1., 1., 1., 1., 1., 1., 0.],\n",
       "       [0., 1., 1., 1., 1., 1., 1., 1., 0.],\n",
       "       [0., 1., 1., 1., 1., 1., 1., 1., 0.],\n",
       "       [0., 1., 1., 1., 1., 1., 1., 1., 0.],\n",
       "       [0., 0., 0., 0., 0., 0., 0., 0., 0.]])"
      ]
     },
     "execution_count": 3,
     "metadata": {},
     "output_type": "execute_result"
    }
   ],
   "source": [
    "image = np.ones((5, 7))\n",
    "padd = 1\n",
    "padding_image = np.zeros((image.shape[0]+padd*2, image.shape[1]+padd*2))\n",
    "padding_image[padd:-padd, padd:-padd] = image\n",
    "padding_image"
   ]
  },
  {
   "cell_type": "code",
   "execution_count": 42,
   "metadata": {},
   "outputs": [],
   "source": [
    "m = np.arange(16)\n",
    "np.random.shuffle(m)\n",
    "m = m.reshape(4, 4)\n",
    "\n",
    "pooling = (2, 2)"
   ]
  },
  {
   "cell_type": "code",
   "execution_count": 43,
   "metadata": {},
   "outputs": [
    {
     "data": {
      "text/plain": [
       "array([[ 4,  3,  0,  2],\n",
       "       [ 5,  8, 11, 10],\n",
       "       [ 9, 15,  6,  7],\n",
       "       [13,  1, 12, 14]])"
      ]
     },
     "execution_count": 43,
     "metadata": {},
     "output_type": "execute_result"
    }
   ],
   "source": [
    "m"
   ]
  },
  {
   "cell_type": "code",
   "execution_count": 51,
   "metadata": {},
   "outputs": [
    {
     "data": {
      "text/plain": [
       "(4, 4)"
      ]
     },
     "execution_count": 51,
     "metadata": {},
     "output_type": "execute_result"
    }
   ],
   "source": [
    "m.shape"
   ]
  },
  {
   "cell_type": "code",
   "execution_count": 62,
   "metadata": {},
   "outputs": [
    {
     "data": {
      "text/plain": [
       "array([[ 8, 11],\n",
       "       [15, 14]])"
      ]
     },
     "execution_count": 62,
     "metadata": {},
     "output_type": "execute_result"
    }
   ],
   "source": [
    "result = np.zeros((int(m.shape[0]/pooling[0]), int(m.shape[1]/pooling[1])))\n",
    "result = []\n",
    "for i in range(0, m.shape[0]-pooling[0]+1, pooling[0]):\n",
    "    for j in range(0, m.shape[1]-pooling[1]+1, pooling[1]):\n",
    "        result.append(m[i:i+2, j:j+2].max())\n",
    "\n",
    "result = np.array(result).reshape(int(m.shape[0]/pooling[0]), int(m.shape[1]/pooling[1]))\n",
    "result"
   ]
  },
  {
   "cell_type": "code",
   "execution_count": 89,
   "metadata": {},
   "outputs": [],
   "source": [
    "def get_cnv_zeros(image_shape: tuple, filter_shape: tuple) -> np.ndarray:\n",
    "    cnv_shape = (image_shape[0] - filter_shape[0] + 1, image_shape[1] - filter_shape[1] + 1)\n",
    "    return np.zeros(cnv_shape)\n",
    "\n",
    "\n",
    "def get_padding(image: np.ndarray, padding: int=0) -> np.ndarray:\n",
    "    padding_image = np.zeros((image.shape[0]+padding*2, image.shape[1]+padding*2))\n",
    "    padding_image[padding:-padding, padding:-padding] = image\n",
    "    return padding_image\n",
    "    \n",
    "\n",
    "def convolve(image: np.ndarray, _filter: np.ndarray, s_x: int=1, x_y: int=1, padding: int=0) -> np.ndarray:\n",
    "    if padding:\n",
    "        image = get_padding(image, padding)\n",
    "        \n",
    "    cnv = get_cnv_zeros(image.shape, _filter.shape)\n",
    "    for i in range(cnv_shape[0]):\n",
    "        for j in range(cnv_shape[1]):\n",
    "            cnv[i][j] = (image[i:i+_filter.shape[0], j:j+_filter.shape[0]] * _filter).sum()\n",
    "    return cnv\n",
    "\n",
    "\n",
    "def pooling(m: np.ndarray, pooling: tuple, type_of_pooling='max-pooling') -> np.ndarray:\n",
    "    if m.shape[0] % pooling[0] != 0 or m.shape[1] % pooling[1] != 0:\n",
    "        return 'it\\'s not okay'\n",
    "    \n",
    "    result = []\n",
    "    for i in range(0, m.shape[0]-pooling[0]+1, pooling[0]):\n",
    "        for j in range(0, m.shape[1]-pooling[1]+1, pooling[1]):\n",
    "            result.append(m[i:i+pooling[0], j:j+pooling[1]].max())\n",
    "\n",
    "    result = np.array(result).reshape(int(m.shape[0]/pooling[0]), int(m.shape[1]/pooling[1]))\n",
    "    return result\n",
    "    \n"
   ]
  },
  {
   "cell_type": "code",
   "execution_count": 5,
   "metadata": {},
   "outputs": [
    {
     "data": {
      "text/plain": [
       "array([[0., 0., 0., 0., 0., 0., 0., 0., 0., 0., 0., 0., 0., 0.],\n",
       "       [0., 0., 0., 0., 0., 0., 0., 0., 0., 0., 0., 0., 0., 0.],\n",
       "       [0., 0., 0., 0., 0., 0., 0., 0., 0., 0., 0., 0., 0., 0.],\n",
       "       [0., 0., 0., 1., 1., 1., 1., 1., 1., 1., 1., 0., 0., 0.],\n",
       "       [0., 0., 0., 1., 1., 1., 1., 1., 1., 1., 1., 0., 0., 0.],\n",
       "       [0., 0., 0., 1., 1., 1., 1., 1., 1., 1., 1., 0., 0., 0.],\n",
       "       [0., 0., 0., 0., 0., 0., 0., 0., 0., 0., 0., 0., 0., 0.],\n",
       "       [0., 0., 0., 0., 0., 0., 0., 0., 0., 0., 0., 0., 0., 0.],\n",
       "       [0., 0., 0., 0., 0., 0., 0., 0., 0., 0., 0., 0., 0., 0.]])"
      ]
     },
     "execution_count": 5,
     "metadata": {},
     "output_type": "execute_result"
    }
   ],
   "source": [
    "get_padding(np.ones((3, 8)), 3)"
   ]
  },
  {
   "cell_type": "code",
   "execution_count": 94,
   "metadata": {},
   "outputs": [
    {
     "data": {
      "text/plain": [
       "array([[0., 0., 1., 0., 1., 0., 0., 0., 0.],\n",
       "       [0., 2., 2., 3., 2., 0., 0., 0., 0.],\n",
       "       [1., 2., 5., 3., 5., 0., 0., 0., 0.],\n",
       "       [0., 0., 0., 0., 0., 0., 0., 0., 0.],\n",
       "       [0., 0., 0., 0., 0., 0., 0., 0., 0.],\n",
       "       [0., 0., 0., 0., 0., 0., 0., 0., 0.],\n",
       "       [0., 0., 0., 0., 0., 0., 0., 0., 0.]])"
      ]
     },
     "execution_count": 94,
     "metadata": {},
     "output_type": "execute_result"
    }
   ],
   "source": [
    "convolve(image, _filter, padding=2)"
   ]
  },
  {
   "cell_type": "code",
   "execution_count": 96,
   "metadata": {},
   "outputs": [
    {
     "data": {
      "text/plain": [
       "array([[1., 1., 0.],\n",
       "       [2., 3., 0.],\n",
       "       [5., 5., 0.],\n",
       "       [0., 0., 0.],\n",
       "       [0., 0., 0.],\n",
       "       [0., 0., 0.],\n",
       "       [0., 0., 0.]])"
      ]
     },
     "execution_count": 96,
     "metadata": {},
     "output_type": "execute_result"
    }
   ],
   "source": [
    "c = convolve(image, _filter, padding=2)\n",
    "pooling(c, (1, 3))"
   ]
  },
  {
   "cell_type": "code",
   "execution_count": 97,
   "metadata": {},
   "outputs": [
    {
     "data": {
      "text/plain": [
       "array([[0., 0., 0., 0., 0.],\n",
       "       [0., 0., 0., 0., 0.],\n",
       "       [0., 0., 0., 0., 0.]])"
      ]
     },
     "execution_count": 97,
     "metadata": {},
     "output_type": "execute_result"
    }
   ],
   "source": [
    "get_cnv_zeros(image.shape, _filter.shape)"
   ]
  },
  {
   "cell_type": "code",
   "execution_count": null,
   "metadata": {},
   "outputs": [],
   "source": []
  },
  {
   "cell_type": "code",
   "execution_count": 8,
   "metadata": {},
   "outputs": [
    {
     "data": {
      "text/plain": [
       "array([[5, 3, 5, 3, 5],\n",
       "       [3, 4, 3, 4, 3],\n",
       "       [5, 3, 5, 3, 5]])"
      ]
     },
     "execution_count": 8,
     "metadata": {},
     "output_type": "execute_result"
    }
   ],
   "source": [
    "_filter = np.array(\n",
    "    [[0, 1, 0],\n",
    "     [1, 1, 1],\n",
    "     [0, 1, 0]\n",
    "    ]\n",
    ")\n",
    "\n",
    "image = np.array([\n",
    "    [0, 1, 0, 1, 0, 1, 0],\n",
    "    [1, 1, 1, 1, 1, 1, 1],\n",
    "    [0, 1, 0, 1, 0, 1, 0],\n",
    "    [1, 1, 1, 1, 1, 1, 1],\n",
    "    [0, 1, 0, 1, 0, 1, 0]\n",
    "    ])\n",
    "\n",
    "s_x=1\n",
    "s_y=1\n",
    "\n",
    "res = signal.convolve2d(image, _filter[::-1, ::-1], mode='valid')[::s_y, ::s_x]\n",
    "res"
   ]
  },
  {
   "cell_type": "code",
   "execution_count": 10,
   "metadata": {},
   "outputs": [],
   "source": []
  },
  {
   "cell_type": "code",
   "execution_count": null,
   "metadata": {},
   "outputs": [],
   "source": []
  }
 ],
 "metadata": {
  "kernelspec": {
   "display_name": "Python 3",
   "language": "python",
   "name": "python3"
  },
  "language_info": {
   "codemirror_mode": {
    "name": "ipython",
    "version": 3
   },
   "file_extension": ".py",
   "mimetype": "text/x-python",
   "name": "python",
   "nbconvert_exporter": "python",
   "pygments_lexer": "ipython3",
   "version": "3.8.5"
  }
 },
 "nbformat": 4,
 "nbformat_minor": 2
}
